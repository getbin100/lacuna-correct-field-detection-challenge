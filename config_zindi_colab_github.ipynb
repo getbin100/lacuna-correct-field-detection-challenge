{
  "nbformat": 4,
  "nbformat_minor": 0,
  "metadata": {
    "colab": {
      "name": "config_zindi_colab_github.ipynb",
      "provenance": [],
      "mount_file_id": "1GP2m_nvlZ1425XG-nQJNxtL64E2jkwEq",
      "authorship_tag": "ABX9TyNgjiIamillL2ykPaJOw1Yk",
      "include_colab_link": true
    },
    "kernelspec": {
      "name": "python3",
      "display_name": "Python 3"
    },
    "language_info": {
      "name": "python"
    }
  },
  "cells": [
    {
      "cell_type": "markdown",
      "metadata": {
        "id": "view-in-github",
        "colab_type": "text"
      },
      "source": [
        "<a href=\"https://colab.research.google.com/github/getbin100/lacuna-correct-field-detection-challenge/blob/master/config_zindi_colab_github.ipynb\" target=\"_parent\"><img src=\"https://colab.research.google.com/assets/colab-badge.svg\" alt=\"Open In Colab\"/></a>"
      ]
    },
    {
      "cell_type": "code",
      "metadata": {
        "id": "Rwhh50fY4zPC"
      },
      "source": [
        "# from google.colab import drive\n",
        "# drive.mount('/content/drive')"
      ],
      "execution_count": 15,
      "outputs": []
    },
    {
      "cell_type": "code",
      "metadata": {
        "id": "mYeoXNSr4jb7"
      },
      "source": [
        "# !mkdir lacuna-correct-field-detection-challenge\n",
        "# !mkdir lacuna-correct-field-detection-challenge/input"
      ],
      "execution_count": 16,
      "outputs": []
    },
    {
      "cell_type": "code",
      "metadata": {
        "id": "pb-8opFk19eU"
      },
      "source": [
        "# cd /content/drive/MyDrive/lacuna-correct-field-detection-challenge/"
      ],
      "execution_count": 17,
      "outputs": []
    },
    {
      "cell_type": "code",
      "metadata": {
        "id": "l2vT24Yokm3R"
      },
      "source": [
        "#the url and auth_value from the website \n",
        "import requests\n",
        "import requests, zipfile\n",
        "\n",
        "competition = 'lacuna-correct-field-detection-challenge'\n",
        "file_names = ['sentinel-20210327T141333Z-001.zip', 'sentinel-20210327T141333Z-002.zip', \n",
        "              'train.csv', 'test.csv', 'sample_submission.csv', 'starter-notebook.ipynb']\n",
        "\n",
        "for file_name in file_names:\n",
        "  url = f'https://api.zindi.africa/v1/competitions/{competition}/files/{file_name}'\n",
        "  auth = {'auth_token': '78cymQwXj3s55gJRB9icrusE'} \n",
        "  \n",
        "  x = requests.post(url, data = auth,stream=True)\n",
        "  target_path = f'input/{file_name}'\n",
        "  handle = open(target_path, \"wb\")\n",
        "  \n",
        "  for chunk in x.iter_content(chunk_size=512):\n",
        "    if chunk:  # filter out keep-alive new chunks\n",
        "        handle.write(chunk)\n",
        "  handle.close()"
      ],
      "execution_count": 14,
      "outputs": []
    },
    {
      "cell_type": "code",
      "metadata": {
        "colab": {
          "base_uri": "https://localhost:8080/"
        },
        "id": "UF53wpRL8zoa",
        "outputId": "a2248d0b-e250-46a3-ff68-c02b64cc9e2c"
      },
      "source": [
        "!git init"
      ],
      "execution_count": 19,
      "outputs": [
        {
          "output_type": "stream",
          "text": [
            "Initialized empty Git repository in /content/drive/My Drive/lacuna-correct-field-detection-challenge/.git/\n"
          ],
          "name": "stdout"
        }
      ]
    },
    {
      "cell_type": "code",
      "metadata": {
        "id": "NFl-cRAPFIsB"
      },
      "source": [
        "# !git config --global user.email \"xxxx@gmail.com\""
      ],
      "execution_count": 49,
      "outputs": []
    },
    {
      "cell_type": "code",
      "metadata": {
        "id": "fxD13U2V83J5"
      },
      "source": [
        "# !git remote add origin https://github.com/xxxxxx/lacuna-correct-field-detection-challenge.git"
      ],
      "execution_count": 53,
      "outputs": []
    },
    {
      "cell_type": "code",
      "metadata": {
        "id": "lp1B4L9cD8Aa"
      },
      "source": [
        "!git add ."
      ],
      "execution_count": 46,
      "outputs": []
    },
    {
      "cell_type": "code",
      "metadata": {
        "colab": {
          "base_uri": "https://localhost:8080/"
        },
        "id": "hlRNIDQNE_Y3",
        "outputId": "ccaa1594-fe67-4806-be6c-2bf3acd7b746"
      },
      "source": [
        "!git commit -m \"Init\""
      ],
      "execution_count": 50,
      "outputs": [
        {
          "output_type": "stream",
          "text": [
            "On branch master\n",
            "nothing to commit, working tree clean\n"
          ],
          "name": "stdout"
        }
      ]
    },
    {
      "cell_type": "code",
      "metadata": {
        "id": "Imlr9LXPFc9a"
      },
      "source": [
        "# !git push -u origin master"
      ],
      "execution_count": 54,
      "outputs": []
    },
    {
      "cell_type": "code",
      "metadata": {
        "id": "Suc7MpcZGCWE"
      },
      "source": [
        ""
      ],
      "execution_count": null,
      "outputs": []
    }
  ]
}